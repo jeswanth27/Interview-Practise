{
 "cells": [
  {
   "cell_type": "code",
   "execution_count": 0,
   "metadata": {
    "application/vnd.databricks.v1+cell": {
     "cellMetadata": {
      "byteLimit": 2048000,
      "rowLimit": 10000
     },
     "inputWidgets": {},
     "nuid": "26ddbd97-caaf-4e03-982e-9828d94cc348",
     "showTitle": false,
     "title": ""
    }
   },
   "outputs": [],
   "source": [
    "data=[(4,'D',23,'25|27|30'),(1,'A',20,'31|32|34'),(2,'B',21,'32|33|38'),(3,'C',22,'34|36|39')]"
   ]
  },
  {
   "cell_type": "code",
   "execution_count": 0,
   "metadata": {
    "application/vnd.databricks.v1+cell": {
     "cellMetadata": {
      "byteLimit": 2048000,
      "rowLimit": 10000
     },
     "inputWidgets": {},
     "nuid": "cba48c1e-2bd7-493f-acbe-c603c50d7606",
     "showTitle": false,
     "title": ""
    }
   },
   "outputs": [
    {
     "output_type": "execute_result",
     "data": {
      "text/plain": [
       "[(4, 'D', 23, '25|27|30'),\n",
       " (1, 'A', 20, '31|32|34'),\n",
       " (2, 'B', 21, '32|33|38'),\n",
       " (3, 'C', 22, '34|36|39')]"
      ]
     },
     "execution_count": 17,
     "metadata": {},
     "output_type": "execute_result"
    }
   ],
   "source": [
    "data"
   ]
  },
  {
   "cell_type": "code",
   "execution_count": 0,
   "metadata": {
    "application/vnd.databricks.v1+cell": {
     "cellMetadata": {
      "byteLimit": 2048000,
      "rowLimit": 10000
     },
     "inputWidgets": {},
     "nuid": "9eac8d78-563c-434f-82f0-2f10fa876ee0",
     "showTitle": false,
     "title": ""
    }
   },
   "outputs": [],
   "source": [
    "columns=[\"ID\",\"NAME\",\"Age\",\"Marks\"]"
   ]
  },
  {
   "cell_type": "code",
   "execution_count": 0,
   "metadata": {
    "application/vnd.databricks.v1+cell": {
     "cellMetadata": {
      "byteLimit": 2048000,
      "rowLimit": 10000
     },
     "inputWidgets": {},
     "nuid": "81e78709-7490-4ad7-b303-f25c57a17635",
     "showTitle": false,
     "title": ""
    }
   },
   "outputs": [],
   "source": [
    "df=spark.createDataFrame(data,columns)"
   ]
  },
  {
   "cell_type": "code",
   "execution_count": 0,
   "metadata": {
    "application/vnd.databricks.v1+cell": {
     "cellMetadata": {
      "byteLimit": 2048000,
      "rowLimit": 10000
     },
     "inputWidgets": {},
     "nuid": "24f35415-d4bc-43ef-9984-b1fff138ddb2",
     "showTitle": false,
     "title": ""
    }
   },
   "outputs": [
    {
     "output_type": "stream",
     "name": "stdout",
     "output_type": "stream",
     "text": [
      "+---+----+---+--------+\n| ID|NAME|Age|   Marks|\n+---+----+---+--------+\n|  4|   D| 23|25|27|30|\n|  1|   A| 20|31|32|34|\n|  2|   B| 21|32|33|38|\n|  3|   C| 22|34|36|39|\n+---+----+---+--------+\n\n"
     ]
    }
   ],
   "source": [
    "df.show()"
   ]
  },
  {
   "cell_type": "code",
   "execution_count": 0,
   "metadata": {
    "application/vnd.databricks.v1+cell": {
     "cellMetadata": {
      "byteLimit": 2048000,
      "rowLimit": 10000
     },
     "inputWidgets": {},
     "nuid": "f758c9f4-89ea-4c4c-a3e6-3e0daba4a15a",
     "showTitle": false,
     "title": ""
    }
   },
   "outputs": [],
   "source": [
    "from pyspark.sql.functions import *\n",
    "df1=df.withColumn(\"physics\",split(\"Marks\",\"\\\\|\")[0]).withColumn(\"Maths\",split(\"Marks\",\"\\\\|\")[1]).withColumn(\"Chemistry\",split(\"Marks\",\"\\\\|\")[2])"
   ]
  },
  {
   "cell_type": "code",
   "execution_count": 0,
   "metadata": {
    "application/vnd.databricks.v1+cell": {
     "cellMetadata": {
      "byteLimit": 2048000,
      "rowLimit": 10000
     },
     "inputWidgets": {},
     "nuid": "39c981b6-bd6c-4046-a663-2f5e4fedbb04",
     "showTitle": false,
     "title": ""
    }
   },
   "outputs": [],
   "source": [
    "df3=df1.drop(\"Marks\")"
   ]
  },
  {
   "cell_type": "code",
   "execution_count": 0,
   "metadata": {
    "application/vnd.databricks.v1+cell": {
     "cellMetadata": {
      "byteLimit": 2048000,
      "rowLimit": 10000
     },
     "inputWidgets": {},
     "nuid": "b6d3aad6-6952-4634-bb75-bc3d250b6399",
     "showTitle": false,
     "title": ""
    }
   },
   "outputs": [
    {
     "output_type": "stream",
     "name": "stdout",
     "output_type": "stream",
     "text": [
      "+---+----+---+-------+-----+---------+\n| ID|NAME|Age|physics|Maths|Chemistry|\n+---+----+---+-------+-----+---------+\n|  4|   D| 23|     25|   27|       30|\n|  1|   A| 20|     31|   32|       34|\n|  2|   B| 21|     32|   33|       38|\n|  3|   C| 22|     34|   36|       39|\n+---+----+---+-------+-----+---------+\n\n"
     ]
    }
   ],
   "source": [
    "df3.show()"
   ]
  },
  {
   "cell_type": "code",
   "execution_count": 0,
   "metadata": {
    "application/vnd.databricks.v1+cell": {
     "cellMetadata": {
      "byteLimit": 2048000,
      "rowLimit": 10000
     },
     "inputWidgets": {},
     "nuid": "c7693465-f0e8-40f1-88e0-7c3b5cdccdcd",
     "showTitle": false,
     "title": ""
    }
   },
   "outputs": [],
   "source": [
    "df4=df.select(\"ID\",\"NAME\",\"Age\",explode(split(\"Marks\",\"\\\\|\")).alias(\"Marks_1\"))"
   ]
  },
  {
   "cell_type": "code",
   "execution_count": 0,
   "metadata": {
    "application/vnd.databricks.v1+cell": {
     "cellMetadata": {
      "byteLimit": 2048000,
      "rowLimit": 10000
     },
     "inputWidgets": {},
     "nuid": "e9aaa230-7589-4651-be93-04d50df65b0c",
     "showTitle": false,
     "title": ""
    }
   },
   "outputs": [
    {
     "output_type": "stream",
     "name": "stdout",
     "output_type": "stream",
     "text": [
      "+---+----+---+-------+\n| ID|NAME|Age|Marks_1|\n+---+----+---+-------+\n|  4|   D| 23|     25|\n|  4|   D| 23|     27|\n|  4|   D| 23|     30|\n|  1|   A| 20|     31|\n|  1|   A| 20|     32|\n|  1|   A| 20|     34|\n|  2|   B| 21|     32|\n|  2|   B| 21|     33|\n|  2|   B| 21|     38|\n|  3|   C| 22|     34|\n|  3|   C| 22|     36|\n|  3|   C| 22|     39|\n+---+----+---+-------+\n\n"
     ]
    }
   ],
   "source": [
    "df4.show()"
   ]
  },
  {
   "cell_type": "code",
   "execution_count": 0,
   "metadata": {
    "application/vnd.databricks.v1+cell": {
     "cellMetadata": {},
     "inputWidgets": {},
     "nuid": "88847366-5093-4faa-afcd-5fa735c9e7bc",
     "showTitle": false,
     "title": ""
    }
   },
   "outputs": [],
   "source": []
  }
 ],
 "metadata": {
  "application/vnd.databricks.v1+notebook": {
   "dashboards": [],
   "environmentMetadata": null,
   "language": "python",
   "notebookMetadata": {
    "pythonIndentUnit": 4
   },
   "notebookName": "How to handle multi delimiters",
   "widgets": {}
  }
 },
 "nbformat": 4,
 "nbformat_minor": 0
}
