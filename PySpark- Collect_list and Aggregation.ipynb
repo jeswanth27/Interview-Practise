{
 "cells": [
  {
   "cell_type": "code",
   "execution_count": 0,
   "metadata": {
    "application/vnd.databricks.v1+cell": {
     "cellMetadata": {
      "byteLimit": 2048000,
      "rowLimit": 10000
     },
     "inputWidgets": {},
     "nuid": "4cee73e7-2330-486c-b141-03d53802952a",
     "showTitle": false,
     "title": ""
    }
   },
   "outputs": [],
   "source": [
    "data = [\n",
    "    (\"john\", \"tomato\", 2),\n",
    "    (\"𝚋𝚒𝚕𝚕\", \"𝚊𝚙𝚙𝚕𝚎\", 2),\n",
    "    (\"john\", \"𝚋𝚊𝚗𝚊𝚗𝚊\", 2),\n",
    "    (\"john\", \"tomato\", 3),\n",
    "    (\"𝚋𝚒𝚕𝚕\", \"𝚝𝚊𝚌𝚘\", 2),\n",
    "    (\"𝚋𝚒𝚕𝚕\", \"𝚊𝚙𝚙𝚕𝚎\", 2),\n",
    "]\n",
    "schema = \"name string,item string,weight int\"\n",
    "df = spark.createDataFrame(data, schema)"
   ]
  },
  {
   "cell_type": "code",
   "execution_count": 0,
   "metadata": {
    "application/vnd.databricks.v1+cell": {
     "cellMetadata": {
      "byteLimit": 2048000,
      "rowLimit": 10000
     },
     "inputWidgets": {},
     "nuid": "97991188-72b3-444f-9a9d-2556fbd6af3a",
     "showTitle": false,
     "title": ""
    }
   },
   "outputs": [
    {
     "output_type": "stream",
     "name": "stdout",
     "output_type": "stream",
     "text": [
      "+--------+------------+------+\n|    name|        item|weight|\n+--------+------------+------+\n|    john|      tomato|     2|\n|𝚋𝚒𝚕𝚕|  𝚊𝚙𝚙𝚕𝚎|     2|\n|    john|𝚋𝚊𝚗𝚊𝚗𝚊|     2|\n|    john|      tomato|     3|\n|𝚋𝚒𝚕𝚕|    𝚝𝚊𝚌𝚘|     2|\n|𝚋𝚒𝚕𝚕|  𝚊𝚙𝚙𝚕𝚎|     2|\n+--------+------------+------+\n\n"
     ]
    }
   ],
   "source": [
    "df.show()"
   ]
  },
  {
   "cell_type": "code",
   "execution_count": 0,
   "metadata": {
    "application/vnd.databricks.v1+cell": {
     "cellMetadata": {
      "byteLimit": 2048000,
      "rowLimit": 10000
     },
     "inputWidgets": {},
     "nuid": "18ed51c3-8d90-4d60-8b2e-0de222a6e508",
     "showTitle": false,
     "title": ""
    }
   },
   "outputs": [],
   "source": [
    "from pyspark.sql.functions import *\n",
    "group_df=df.groupBy(\"name\",\"item\").agg(sum(\"weight\").alias(\"item_weight\"))"
   ]
  },
  {
   "cell_type": "code",
   "execution_count": 0,
   "metadata": {
    "application/vnd.databricks.v1+cell": {
     "cellMetadata": {
      "byteLimit": 2048000,
      "rowLimit": 10000
     },
     "inputWidgets": {},
     "nuid": "794b1c97-5677-4d4a-92df-f4eb9c26f6a8",
     "showTitle": false,
     "title": ""
    }
   },
   "outputs": [],
   "source": [
    "result_df=group_df.groupBy(\"name\").agg(collect_list(struct(\"item\",\"item_weight\")).alias(\"items_list\"))"
   ]
  },
  {
   "cell_type": "code",
   "execution_count": 0,
   "metadata": {
    "application/vnd.databricks.v1+cell": {
     "cellMetadata": {
      "byteLimit": 2048000,
      "rowLimit": 10000
     },
     "inputWidgets": {},
     "nuid": "050d8c0a-96b5-47b0-abdb-6cd24fcb3e36",
     "showTitle": false,
     "title": ""
    }
   },
   "outputs": [],
   "source": [
    "new_df=result_df.select(\"name\",explode(\"items_list\"))"
   ]
  },
  {
   "cell_type": "code",
   "execution_count": 0,
   "metadata": {
    "application/vnd.databricks.v1+cell": {
     "cellMetadata": {
      "byteLimit": 2048000,
      "rowLimit": 10000
     },
     "inputWidgets": {},
     "nuid": "90365dab-4ee7-4e1c-a8f4-d8cca6211412",
     "showTitle": false,
     "title": ""
    }
   },
   "outputs": [
    {
     "output_type": "stream",
     "name": "stdout",
     "output_type": "stream",
     "text": [
      "+--------+-----------------+\n|    name|              col|\n+--------+-----------------+\n|𝚋𝚒𝚕𝚕|  {𝚊𝚙𝚙𝚕𝚎, 4}|\n|𝚋𝚒𝚕𝚕|    {𝚝𝚊𝚌𝚘, 2}|\n|    john|      {tomato, 5}|\n|    john|{𝚋𝚊𝚗𝚊𝚗𝚊, 2}|\n+--------+-----------------+\n\n"
     ]
    }
   ],
   "source": [
    "new_df.show()"
   ]
  },
  {
   "cell_type": "code",
   "execution_count": 0,
   "metadata": {
    "application/vnd.databricks.v1+cell": {
     "cellMetadata": {},
     "inputWidgets": {},
     "nuid": "91dfc7ed-f7ba-430d-9806-1f7754961eea",
     "showTitle": false,
     "title": ""
    }
   },
   "outputs": [],
   "source": []
  }
 ],
 "metadata": {
  "application/vnd.databricks.v1+notebook": {
   "dashboards": [],
   "environmentMetadata": null,
   "language": "python",
   "notebookMetadata": {
    "pythonIndentUnit": 4
   },
   "notebookName": "PySpark- Collect_list and Aggregation",
   "widgets": {}
  }
 },
 "nbformat": 4,
 "nbformat_minor": 0
}
