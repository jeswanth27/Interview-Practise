{
 "cells": [
  {
   "cell_type": "code",
   "execution_count": 0,
   "metadata": {
    "application/vnd.databricks.v1+cell": {
     "cellMetadata": {
      "byteLimit": 2048000,
      "rowLimit": 10000
     },
     "inputWidgets": {},
     "nuid": "18e417c8-239f-4965-bd9e-3f9302101822",
     "showTitle": false,
     "title": ""
    }
   },
   "outputs": [],
   "source": [
    "data=[(1, 'War','great 3D',8.9)\n",
    ",(2, 'Science','fiction',8.5) \n",
    ",(3, 'irish','boring',6.2)\n",
    ",(4, 'Ice song','Fantacy',8.6)  \n",
    ",(5, 'House card','Interesting',9.1)]    \n",
    "schema=\"ID int,movie string,description string,rating double\"\n",
    "df=spark.createDataFrame(data,schema)"
   ]
  },
  {
   "cell_type": "code",
   "execution_count": 0,
   "metadata": {
    "application/vnd.databricks.v1+cell": {
     "cellMetadata": {
      "byteLimit": 2048000,
      "rowLimit": 10000
     },
     "inputWidgets": {},
     "nuid": "d269376a-3edd-470c-b97e-b2d02c062f85",
     "showTitle": false,
     "title": ""
    }
   },
   "outputs": [
    {
     "output_type": "stream",
     "name": "stdout",
     "output_type": "stream",
     "text": [
      "+---+----------+-----------+------+\n| ID|     movie|description|rating|\n+---+----------+-----------+------+\n|  1|       War|   great 3D|   8.9|\n|  2|   Science|    fiction|   8.5|\n|  3|     irish|     boring|   6.2|\n|  4|  Ice song|    Fantacy|   8.6|\n|  5|House card|Interesting|   9.1|\n+---+----------+-----------+------+\n\n"
     ]
    }
   ],
   "source": [
    "df.show()"
   ]
  },
  {
   "cell_type": "code",
   "execution_count": 0,
   "metadata": {
    "application/vnd.databricks.v1+cell": {
     "cellMetadata": {
      "byteLimit": 2048000,
      "rowLimit": 10000
     },
     "inputWidgets": {},
     "nuid": "e28c3cf1-954d-400d-b7be-314f70424cef",
     "showTitle": false,
     "title": ""
    }
   },
   "outputs": [],
   "source": [
    "###Write a Pyspark query to report the movies with an odd-numbered ID and a description that is not \"boring\".Return the result table in descending order by rating."
   ]
  },
  {
   "cell_type": "code",
   "execution_count": 0,
   "metadata": {
    "application/vnd.databricks.v1+cell": {
     "cellMetadata": {
      "byteLimit": 2048000,
      "rowLimit": 10000
     },
     "inputWidgets": {},
     "nuid": "13bb1d19-efd9-4b6b-bd09-48506fef3d5c",
     "showTitle": false,
     "title": ""
    }
   },
   "outputs": [],
   "source": [
    "from pyspark.sql.functions import *\n",
    "df2=df.filter((col(\"ID\")%2==0 )& (col(\"description\")!=\"boring\"))"
   ]
  },
  {
   "cell_type": "code",
   "execution_count": 0,
   "metadata": {
    "application/vnd.databricks.v1+cell": {
     "cellMetadata": {
      "byteLimit": 2048000,
      "rowLimit": 10000
     },
     "inputWidgets": {},
     "nuid": "cdeb0c1c-8bfd-48af-94ba-62653bf8f164",
     "showTitle": false,
     "title": ""
    }
   },
   "outputs": [
    {
     "output_type": "stream",
     "name": "stdout",
     "output_type": "stream",
     "text": [
      "+---+--------+-----------+------+\n| ID|   movie|description|rating|\n+---+--------+-----------+------+\n|  2| Science|    fiction|   8.5|\n|  4|Ice song|    Fantacy|   8.6|\n+---+--------+-----------+------+\n\n"
     ]
    }
   ],
   "source": [
    "df2.show()"
   ]
  },
  {
   "cell_type": "code",
   "execution_count": 0,
   "metadata": {
    "application/vnd.databricks.v1+cell": {
     "cellMetadata": {
      "byteLimit": 2048000,
      "rowLimit": 10000
     },
     "inputWidgets": {},
     "nuid": "bdbaeced-ea87-41cf-967b-023b5a479ca8",
     "showTitle": false,
     "title": ""
    }
   },
   "outputs": [],
   "source": [
    "df2.createOrReplaceTempView(\"movies\")"
   ]
  },
  {
   "cell_type": "code",
   "execution_count": 0,
   "metadata": {
    "application/vnd.databricks.v1+cell": {
     "cellMetadata": {
      "byteLimit": 2048000,
      "rowLimit": 10000
     },
     "inputWidgets": {},
     "nuid": "327093eb-4837-457f-9bb7-f5586278b3ed",
     "showTitle": false,
     "title": ""
    }
   },
   "outputs": [
    {
     "output_type": "stream",
     "name": "stdout",
     "output_type": "stream",
     "text": [
      "+---+--------+-----------+------+\n| ID|   movie|description|rating|\n+---+--------+-----------+------+\n|  2| Science|    fiction|   8.5|\n|  4|Ice song|    Fantacy|   8.6|\n+---+--------+-----------+------+\n\n"
     ]
    }
   ],
   "source": [
    "spark.sql(\"select * from movies where ID%2=0 and description<>'boring'\").show()"
   ]
  },
  {
   "cell_type": "code",
   "execution_count": 0,
   "metadata": {
    "application/vnd.databricks.v1+cell": {
     "cellMetadata": {},
     "inputWidgets": {},
     "nuid": "4a64ac8b-0e47-4b7d-b6c7-95055ff126a6",
     "showTitle": false,
     "title": ""
    }
   },
   "outputs": [],
   "source": []
  }
 ],
 "metadata": {
  "application/vnd.databricks.v1+notebook": {
   "dashboards": [],
   "environmentMetadata": null,
   "language": "python",
   "notebookMetadata": {
    "pythonIndentUnit": 4
   },
   "notebookName": "pyspark query to report the movies with an odd-numbered ID and a description",
   "widgets": {}
  }
 },
 "nbformat": 4,
 "nbformat_minor": 0
}
